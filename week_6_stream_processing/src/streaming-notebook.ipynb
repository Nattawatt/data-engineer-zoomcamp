{
 "cells": [
  {
   "cell_type": "markdown",
   "id": "c4419168-c0e6-4a65-b56e-8454c42060ac",
   "metadata": {
    "tags": []
   },
   "source": [
    "### 0. Spark Setup"
   ]
  },
  {
   "cell_type": "code",
   "execution_count": 1,
   "id": "32bd7cdd-8504-4a54-a461-244bf7878d2a",
   "metadata": {
    "tags": []
   },
   "outputs": [],
   "source": [
    "import os\n",
    "os.environ['PYSPARK_SUBMIT_ARGS'] = '--packages org.apache.spark:spark-sql-kafka-0-10_2.12:3.3.1,org.apache.spark:spark-avro_2.12:3.3.1 pyspark-shell'"
   ]
  },
  {
   "cell_type": "code",
   "execution_count": 2,
   "id": "3aab2a7e-a685-4925-9c9a-b5adf201af77",
   "metadata": {
    "tags": []
   },
   "outputs": [
    {
     "name": "stdout",
     "output_type": "stream",
     "text": [
      ":: loading settings :: url = jar:file:/usr/local/lib/python3.10/dist-packages/pyspark/jars/ivy-2.5.1.jar!/org/apache/ivy/core/settings/ivysettings.xml\n"
     ]
    },
    {
     "name": "stderr",
     "output_type": "stream",
     "text": [
      "Ivy Default Cache set to: /root/.ivy2/cache\n",
      "The jars for the packages stored in: /root/.ivy2/jars\n",
      "org.apache.spark#spark-sql-kafka-0-10_2.12 added as a dependency\n",
      "org.apache.spark#spark-avro_2.12 added as a dependency\n",
      ":: resolving dependencies :: org.apache.spark#spark-submit-parent-3bb7814c-8433-474e-b786-d6522d8bec73;1.0\n",
      "\tconfs: [default]\n",
      "\tfound org.apache.spark#spark-sql-kafka-0-10_2.12;3.3.1 in central\n",
      "\tfound org.apache.spark#spark-token-provider-kafka-0-10_2.12;3.3.1 in central\n",
      "\tfound org.apache.kafka#kafka-clients;2.8.1 in central\n",
      "\tfound org.lz4#lz4-java;1.8.0 in central\n",
      "\tfound org.xerial.snappy#snappy-java;1.1.8.4 in central\n",
      "\tfound org.slf4j#slf4j-api;1.7.32 in central\n",
      "\tfound org.apache.hadoop#hadoop-client-runtime;3.3.2 in central\n",
      "\tfound org.spark-project.spark#unused;1.0.0 in central\n",
      "\tfound org.apache.hadoop#hadoop-client-api;3.3.2 in central\n",
      "\tfound commons-logging#commons-logging;1.1.3 in central\n",
      "\tfound com.google.code.findbugs#jsr305;3.0.0 in central\n",
      "\tfound org.apache.commons#commons-pool2;2.11.1 in central\n",
      "\tfound org.apache.spark#spark-avro_2.12;3.3.1 in central\n",
      "\tfound org.tukaani#xz;1.8 in central\n",
      "downloading https://repo1.maven.org/maven2/org/apache/spark/spark-sql-kafka-0-10_2.12/3.3.1/spark-sql-kafka-0-10_2.12-3.3.1.jar ...\n",
      "\t[SUCCESSFUL ] org.apache.spark#spark-sql-kafka-0-10_2.12;3.3.1!spark-sql-kafka-0-10_2.12.jar (712ms)\n",
      "downloading https://repo1.maven.org/maven2/org/apache/spark/spark-avro_2.12/3.3.1/spark-avro_2.12-3.3.1.jar ...\n",
      "\t[SUCCESSFUL ] org.apache.spark#spark-avro_2.12;3.3.1!spark-avro_2.12.jar (445ms)\n",
      "downloading https://repo1.maven.org/maven2/org/apache/spark/spark-token-provider-kafka-0-10_2.12/3.3.1/spark-token-provider-kafka-0-10_2.12-3.3.1.jar ...\n",
      "\t[SUCCESSFUL ] org.apache.spark#spark-token-provider-kafka-0-10_2.12;3.3.1!spark-token-provider-kafka-0-10_2.12.jar (436ms)\n",
      "downloading https://repo1.maven.org/maven2/org/apache/kafka/kafka-clients/2.8.1/kafka-clients-2.8.1.jar ...\n",
      "\t[SUCCESSFUL ] org.apache.kafka#kafka-clients;2.8.1!kafka-clients.jar (2660ms)\n",
      "downloading https://repo1.maven.org/maven2/com/google/code/findbugs/jsr305/3.0.0/jsr305-3.0.0.jar ...\n",
      "\t[SUCCESSFUL ] com.google.code.findbugs#jsr305;3.0.0!jsr305.jar (423ms)\n",
      "downloading https://repo1.maven.org/maven2/org/apache/commons/commons-pool2/2.11.1/commons-pool2-2.11.1.jar ...\n",
      "\t[SUCCESSFUL ] org.apache.commons#commons-pool2;2.11.1!commons-pool2.jar (461ms)\n",
      "downloading https://repo1.maven.org/maven2/org/spark-project/spark/unused/1.0.0/unused-1.0.0.jar ...\n",
      "\t[SUCCESSFUL ] org.spark-project.spark#unused;1.0.0!unused.jar (422ms)\n",
      "downloading https://repo1.maven.org/maven2/org/apache/hadoop/hadoop-client-runtime/3.3.2/hadoop-client-runtime-3.3.2.jar ...\n",
      "\t[SUCCESSFUL ] org.apache.hadoop#hadoop-client-runtime;3.3.2!hadoop-client-runtime.jar (9464ms)\n",
      "downloading https://repo1.maven.org/maven2/org/lz4/lz4-java/1.8.0/lz4-java-1.8.0.jar ...\n",
      "\t[SUCCESSFUL ] org.lz4#lz4-java;1.8.0!lz4-java.jar (598ms)\n",
      "downloading https://repo1.maven.org/maven2/org/xerial/snappy/snappy-java/1.1.8.4/snappy-java-1.1.8.4.jar ...\n",
      "\t[SUCCESSFUL ] org.xerial.snappy#snappy-java;1.1.8.4!snappy-java.jar(bundle) (967ms)\n",
      "downloading https://repo1.maven.org/maven2/org/slf4j/slf4j-api/1.7.32/slf4j-api-1.7.32.jar ...\n",
      "\t[SUCCESSFUL ] org.slf4j#slf4j-api;1.7.32!slf4j-api.jar (431ms)\n",
      "downloading https://repo1.maven.org/maven2/org/apache/hadoop/hadoop-client-api/3.3.2/hadoop-client-api-3.3.2.jar ...\n",
      "\t[SUCCESSFUL ] org.apache.hadoop#hadoop-client-api;3.3.2!hadoop-client-api.jar (5219ms)\n",
      "downloading https://repo1.maven.org/maven2/commons-logging/commons-logging/1.1.3/commons-logging-1.1.3.jar ...\n",
      "\t[SUCCESSFUL ] commons-logging#commons-logging;1.1.3!commons-logging.jar (419ms)\n",
      "downloading https://repo1.maven.org/maven2/org/tukaani/xz/1.8/xz-1.8.jar ...\n",
      "\t[SUCCESSFUL ] org.tukaani#xz;1.8!xz.jar (446ms)\n",
      ":: resolution report :: resolve 28589ms :: artifacts dl 23145ms\n",
      "\t:: modules in use:\n",
      "\tcom.google.code.findbugs#jsr305;3.0.0 from central in [default]\n",
      "\tcommons-logging#commons-logging;1.1.3 from central in [default]\n",
      "\torg.apache.commons#commons-pool2;2.11.1 from central in [default]\n",
      "\torg.apache.hadoop#hadoop-client-api;3.3.2 from central in [default]\n",
      "\torg.apache.hadoop#hadoop-client-runtime;3.3.2 from central in [default]\n",
      "\torg.apache.kafka#kafka-clients;2.8.1 from central in [default]\n",
      "\torg.apache.spark#spark-avro_2.12;3.3.1 from central in [default]\n",
      "\torg.apache.spark#spark-sql-kafka-0-10_2.12;3.3.1 from central in [default]\n",
      "\torg.apache.spark#spark-token-provider-kafka-0-10_2.12;3.3.1 from central in [default]\n",
      "\torg.lz4#lz4-java;1.8.0 from central in [default]\n",
      "\torg.slf4j#slf4j-api;1.7.32 from central in [default]\n",
      "\torg.spark-project.spark#unused;1.0.0 from central in [default]\n",
      "\torg.tukaani#xz;1.8 from central in [default]\n",
      "\torg.xerial.snappy#snappy-java;1.1.8.4 from central in [default]\n",
      "\t---------------------------------------------------------------------\n",
      "\t|                  |            modules            ||   artifacts   |\n",
      "\t|       conf       | number| search|dwnlded|evicted|| number|dwnlded|\n",
      "\t---------------------------------------------------------------------\n",
      "\t|      default     |   14  |   14  |   14  |   0   ||   14  |   14  |\n",
      "\t---------------------------------------------------------------------\n",
      ":: retrieving :: org.apache.spark#spark-submit-parent-3bb7814c-8433-474e-b786-d6522d8bec73\n",
      "\tconfs: [default]\n",
      "\t14 artifacts copied, 0 already retrieved (56927kB/76ms)\n"
     ]
    },
    {
     "name": "stdout",
     "output_type": "stream",
     "text": [
      "23/03/14 14:03:18 WARN NativeCodeLoader: Unable to load native-hadoop library for your platform... using builtin-java classes where applicable\n"
     ]
    },
    {
     "name": "stderr",
     "output_type": "stream",
     "text": [
      "Setting default log level to \"WARN\".\n",
      "To adjust logging level use sc.setLogLevel(newLevel). For SparkR, use setLogLevel(newLevel).\n"
     ]
    }
   ],
   "source": [
    "from pyspark.sql import SparkSession\n",
    "import pyspark.sql.types as T\n",
    "import pyspark.sql.functions as F\n",
    "\n",
    "spark = SparkSession \\\n",
    "    .builder \\\n",
    "    .appName(\"Spark-Notebook\") \\\n",
    "    .getOrCreate()"
   ]
  },
  {
   "cell_type": "markdown",
   "id": "6f4b62fa-b3ce-4a1b-a1f4-2ed332a0d55a",
   "metadata": {
    "tags": []
   },
   "source": [
    "### 1. Reading from Kafka Stream\n",
    "\n",
    "through `readStream`"
   ]
  },
  {
   "cell_type": "markdown",
   "id": "f491fa45-4471-4bc5-92f7-48081f687140",
   "metadata": {},
   "source": [
    "#### 1.1 Raw Kafka Stream"
   ]
  },
  {
   "cell_type": "code",
   "execution_count": 3,
   "id": "82c25cb2-2599-4f9b-8849-967fbb604a44",
   "metadata": {
    "tags": []
   },
   "outputs": [],
   "source": [
    "# default for startingOffsets is \"latest\"\n",
    "df_kafka_raw = spark \\\n",
    "    .readStream \\\n",
    "    .format(\"kafka\") \\\n",
    "    .option(\"kafka.bootstrap.servers\", \"localhost:9092,broker:29092\") \\\n",
    "    .option(\"subscribe\", \"rides_json\") \\\n",
    "    .option(\"startingOffsets\", \"earliest\") \\\n",
    "    .option(\"checkpointLocation\", \"checkpoint\") \\\n",
    "    .load()"
   ]
  },
  {
   "cell_type": "code",
   "execution_count": 4,
   "id": "d9149ccd-69b2-4f5b-afc0-43567673c634",
   "metadata": {
    "tags": []
   },
   "outputs": [
    {
     "name": "stdout",
     "output_type": "stream",
     "text": [
      "root\n",
      " |-- key: binary (nullable = true)\n",
      " |-- value: binary (nullable = true)\n",
      " |-- topic: string (nullable = true)\n",
      " |-- partition: integer (nullable = true)\n",
      " |-- offset: long (nullable = true)\n",
      " |-- timestamp: timestamp (nullable = true)\n",
      " |-- timestampType: integer (nullable = true)\n",
      "\n"
     ]
    }
   ],
   "source": [
    "df_kafka_raw.printSchema()"
   ]
  },
  {
   "cell_type": "markdown",
   "id": "62e5e753-89c7-460f-a8be-16868ce5c680",
   "metadata": {
    "tags": []
   },
   "source": [
    "#### 1.2 Encoded Kafka Stream"
   ]
  },
  {
   "cell_type": "code",
   "execution_count": 5,
   "id": "0b745eed-7d74-421e-8e4b-c8343fda4de3",
   "metadata": {
    "tags": []
   },
   "outputs": [],
   "source": [
    "df_kafka_encoded = df_kafka_raw.selectExpr(\"CAST(key AS STRING)\",\"CAST(value AS STRING)\")"
   ]
  },
  {
   "cell_type": "code",
   "execution_count": 6,
   "id": "6839addc-c7c0-4117-8c9c-d2cd59cbf136",
   "metadata": {
    "tags": []
   },
   "outputs": [
    {
     "name": "stdout",
     "output_type": "stream",
     "text": [
      "root\n",
      " |-- key: string (nullable = true)\n",
      " |-- value: string (nullable = true)\n",
      "\n"
     ]
    }
   ],
   "source": [
    "df_kafka_encoded.printSchema()"
   ]
  },
  {
   "cell_type": "markdown",
   "id": "6749c4de-6f80-4b91-b2b8-b2968c761d75",
   "metadata": {},
   "source": [
    "#### 1.3 Structure Streaming DataFrame"
   ]
  },
  {
   "cell_type": "code",
   "execution_count": 7,
   "id": "ca20ae37-49f0-421f-9859-73fac8d4ca45",
   "metadata": {
    "tags": []
   },
   "outputs": [],
   "source": [
    "def parse_ride_from_kafka_message(df_raw, schema):\n",
    "    \"\"\" take a Spark Streaming df and parse value col based on <schema>, return streaming df cols in schema \"\"\"\n",
    "    assert df_raw.isStreaming is True, \"DataFrame doesn't receive streaming data\"\n",
    "\n",
    "    df = df_raw.selectExpr(\"CAST(key AS STRING)\", \"CAST(value AS STRING)\")\n",
    "\n",
    "    # split attributes to nested array in one Column\n",
    "    col = F.split(df['value'], ', ')\n",
    "\n",
    "    # expand col to multiple top-level columns\n",
    "    for idx, field in enumerate(schema):\n",
    "        df = df.withColumn(field.name, col.getItem(idx).cast(field.dataType))\n",
    "    return df.select([field.name for field in schema])"
   ]
  },
  {
   "cell_type": "code",
   "execution_count": 8,
   "id": "e1737bd0-146f-4ee2-a70f-a4657af5bbc6",
   "metadata": {
    "tags": []
   },
   "outputs": [],
   "source": [
    "ride_schema = T.StructType(\n",
    "    [\n",
    "     # T.StructField(\"vendor_id\", T.IntegerType()),\n",
    "     # T.StructField('tpep_pickup_datetime', T.TimestampType()),\n",
    "     # T.StructField('tpep_dropoff_datetime', T.TimestampType()),\n",
    "     T.StructField('pu_location_id', T.IntegerType()),\n",
    "     # T.StructField(\"passenger_count\", T.IntegerType()),\n",
    "     # T.StructField(\"trip_distance\", T.FloatType()),\n",
    "     # T.StructField(\"payment_type\", T.IntegerType()),\n",
    "     # T.StructField(\"total_amount\", T.FloatType()),\n",
    "     ])"
   ]
  },
  {
   "cell_type": "code",
   "execution_count": 9,
   "id": "ae2ce896-f54b-4166-b01f-b5532ab292fe",
   "metadata": {
    "tags": []
   },
   "outputs": [],
   "source": [
    "df_rides = parse_ride_from_kafka_message(df_raw=df_kafka_raw, schema=ride_schema)"
   ]
  },
  {
   "cell_type": "code",
   "execution_count": 10,
   "id": "cd848228-97c5-4325-8457-97f35e533cd8",
   "metadata": {
    "tags": []
   },
   "outputs": [
    {
     "name": "stdout",
     "output_type": "stream",
     "text": [
      "root\n",
      " |-- pu_location_id: integer (nullable = true)\n",
      "\n"
     ]
    }
   ],
   "source": [
    "df_rides.printSchema()"
   ]
  },
  {
   "cell_type": "markdown",
   "id": "60277fdc-2797-4b23-9ecf-956b76db5778",
   "metadata": {
    "tags": []
   },
   "source": [
    "### 2 Sink Operation & Streaming Query\n",
    "\n",
    "through `writeStream`\n",
    "\n",
    "---\n",
    "**Output Sinks**\n",
    "- File Sink: stores the output to the directory\n",
    "- Kafka Sink: stores the output to one or more topics in Kafka\n",
    "- Foreach Sink:\n",
    "- (for debugging) Console Sink, Memory Sink\n",
    "\n",
    "Further details can be found in [Output Sinks](https://spark.apache.org/docs/latest/structured-streaming-programming-guide.html#output-sinks)\n",
    "\n",
    "---\n",
    "There are three types of **Output Modes**:\n",
    "- Complete: The whole Result Table will be outputted to the sink after every trigger. This is supported for aggregation queries.\n",
    "- Append (default): Only new rows are added to the Result Table\n",
    "- Update: Only updated rows are outputted\n",
    "\n",
    "[Output Modes](https://spark.apache.org/docs/latest/structured-streaming-programming-guide.html#output-modes) differs based on the set of transformations applied to the streaming data. \n",
    "\n",
    "--- \n",
    "**Triggers**\n",
    "\n",
    "The [trigger settings](https://spark.apache.org/docs/latest/structured-streaming-programming-guide.html#triggers) of a streaming query define the timing of streaming data processing. Spark streaming support micro-batch streamings schema and you can select following options based on requirements.\n",
    "\n",
    "- default-micro-batch-mode\n",
    "- fixed-interval-micro-batch-mode\n",
    "- one-time-micro-batch-mode\n",
    "- available-now-micro-batch-mode\n"
   ]
  },
  {
   "cell_type": "markdown",
   "id": "02ca9b08-aa61-46cd-b946-4457ce2cdf5d",
   "metadata": {
    "tags": []
   },
   "source": [
    "#### Console and Memory Sink"
   ]
  },
  {
   "cell_type": "code",
   "execution_count": 11,
   "id": "74c72469-4c37-417c-a866-a1c1ef75ae8b",
   "metadata": {
    "tags": []
   },
   "outputs": [],
   "source": [
    "def sink_console(df, output_mode: str = 'complete', processing_time: str = '5 seconds'):\n",
    "    write_query = df.writeStream \\\n",
    "        .outputMode(output_mode) \\\n",
    "        .trigger(processingTime=processing_time) \\\n",
    "        .format(\"console\") \\\n",
    "        .option(\"truncate\", False) \\\n",
    "        .start()\n",
    "    return write_query # pyspark.sql.streaming.StreamingQuery"
   ]
  },
  {
   "cell_type": "code",
   "execution_count": 18,
   "id": "d866c7ba-f8e9-475d-830a-50ffb2c5472b",
   "metadata": {
    "tags": []
   },
   "outputs": [
    {
     "name": "stdout",
     "output_type": "stream",
     "text": [
      "23/03/14 09:02:25 WARN ResolveWriteToStream: Temporary checkpoint location created which is deleted normally when the query didn't fail: /tmp/temporary-3a4e6633-f7ad-4af0-87b7-924d849e972b. If it's required to delete it under any circumstances, please set spark.sql.streaming.forceDeleteTempCheckpointLocation to true. Important to know deleting temp checkpoint folder is best effort.\n",
      "23/03/14 09:02:25 WARN ResolveWriteToStream: spark.sql.adaptive.enabled is not supported in streaming DataFrames/Datasets and will be disabled.\n",
      "23/03/14 09:02:26 WARN NetworkClient: [Consumer clientId=consumer-spark-kafka-source-29d8d1ba-5b6c-4aad-a123-5f93fd69bef7--216657764-driver-0-4, groupId=spark-kafka-source-29d8d1ba-5b6c-4aad-a123-5f93fd69bef7--216657764-driver-0] Connection to node -1 (localhost/127.0.0.1:9092) could not be established. Broker may not be available.\n",
      "23/03/14 09:02:26 WARN NetworkClient: [Consumer clientId=consumer-spark-kafka-source-29d8d1ba-5b6c-4aad-a123-5f93fd69bef7--216657764-driver-0-4, groupId=spark-kafka-source-29d8d1ba-5b6c-4aad-a123-5f93fd69bef7--216657764-driver-0] Bootstrap broker localhost:9092 (id: -1 rack: null) disconnected\n"
     ]
    }
   ],
   "source": [
    "write_query = sink_console(df_rides, output_mode='append')"
   ]
  },
  {
   "cell_type": "code",
   "execution_count": 19,
   "id": "a9bfa73f-a8cc-4988-a8cf-bf31ee6c449c",
   "metadata": {
    "tags": []
   },
   "outputs": [],
   "source": [
    "def sink_memory(df, query_name, query_template):\n",
    "    write_query = df \\\n",
    "        .writeStream \\\n",
    "        .queryName(query_name) \\\n",
    "        .format('memory') \\\n",
    "        .start()\n",
    "    query_str = query_template.format(table_name=query_name)\n",
    "    query_results = spark.sql(query_str)\n",
    "    return write_query, query_results"
   ]
  },
  {
   "cell_type": "code",
   "execution_count": 20,
   "id": "b31d0b76-e917-44e7-a14d-f9ce6901c23a",
   "metadata": {
    "tags": []
   },
   "outputs": [
    {
     "name": "stdout",
     "output_type": "stream",
     "text": [
      "23/03/14 09:02:27 WARN ResolveWriteToStream: Temporary checkpoint location created which is deleted normally when the query didn't fail: /tmp/temporary-6a625a2b-9cef-4f36-a208-86bd44fe7334. If it's required to delete it under any circumstances, please set spark.sql.streaming.forceDeleteTempCheckpointLocation to true. Important to know deleting temp checkpoint folder is best effort.\n",
      "23/03/14 09:02:27 WARN ResolveWriteToStream: spark.sql.adaptive.enabled is not supported in streaming DataFrames/Datasets and will be disabled.\n"
     ]
    },
    {
     "name": "stderr",
     "output_type": "stream",
     "text": [
      "[Stage 2:>                                                          (0 + 1) / 1]\r"
     ]
    },
    {
     "name": "stdout",
     "output_type": "stream",
     "text": [
      "23/03/14 09:02:27 WARN NetworkClient: [Consumer clientId=consumer-spark-kafka-source-9d046eaa-719b-4034-bc7c-bdbad959fbe4--229402881-driver-0-6, groupId=spark-kafka-source-9d046eaa-719b-4034-bc7c-bdbad959fbe4--229402881-driver-0] Connection to node -1 (localhost/127.0.0.1:9092) could not be established. Broker may not be available.\n",
      "23/03/14 09:02:27 WARN NetworkClient: [Consumer clientId=consumer-spark-kafka-source-9d046eaa-719b-4034-bc7c-bdbad959fbe4--229402881-driver-0-6, groupId=spark-kafka-source-9d046eaa-719b-4034-bc7c-bdbad959fbe4--229402881-driver-0] Bootstrap broker localhost:9092 (id: -1 rack: null) disconnected\n"
     ]
    }
   ],
   "source": [
    "query_name = 'pu_location_count_test1'\n",
    "query_template = 'select pu_location_id, count(1) from {table_name} group by 1 order by 2 desc'\n",
    "write_query, df_vendor_id_counts = sink_memory(df=df_rides, query_name=query_name, query_template=query_template)"
   ]
  },
  {
   "cell_type": "code",
   "execution_count": null,
   "id": "4ba56111-83bf-4028-ac65-565e0190f310",
   "metadata": {
    "tags": []
   },
   "outputs": [],
   "source": [
    "print(type(write_query)) # pyspark.sql.streaming.StreamingQuery\n",
    "write_query.status"
   ]
  },
  {
   "cell_type": "code",
   "execution_count": 27,
   "id": "7cc37bda-9cfa-402b-9d42-a6ba5271476b",
   "metadata": {
    "tags": []
   },
   "outputs": [
    {
     "name": "stdout",
     "output_type": "stream",
     "text": [
      "23/03/14 09:14:47 WARN ProcessingTimeExecutor: Current batch is falling behind. The trigger interval is 5000 milliseconds, but spent 12784 milliseconds\n",
      "23/03/14 09:14:47 WARN ProcessingTimeExecutor: Current batch is falling behind. The trigger interval is 5000 milliseconds, but spent 12846 milliseconds\n"
     ]
    },
    {
     "name": "stderr",
     "output_type": "stream",
     "text": [
      "                                                                                \r"
     ]
    },
    {
     "name": "stdout",
     "output_type": "stream",
     "text": [
      "-------------------------------------------\n",
      "Batch: 107\n",
      "-------------------------------------------\n",
      "-------------------------------------------\n",
      "Batch: 107\n",
      "-------------------------------------------\n",
      "+--------------+\n",
      "|pu_location_id|\n",
      "+--------------+\n",
      "|2             |\n",
      "|2             |\n",
      "|2             |\n",
      "|2             |\n",
      "|2             |\n",
      "|2             |\n",
      "|1             |\n",
      "|2             |\n",
      "|2             |\n",
      "|2             |\n",
      "|2             |\n",
      "|2             |\n",
      "|2             |\n",
      "|2             |\n",
      "|2             |\n",
      "|1             |\n",
      "|1             |\n",
      "|2             |\n",
      "|2             |\n",
      "|2             |\n",
      "+--------------+\n",
      "only showing top 20 rows\n",
      "\n",
      "+--------------+\n",
      "|pu_location_id|\n",
      "+--------------+\n",
      "|2             |\n",
      "|2             |\n",
      "|2             |\n",
      "|2             |\n",
      "|2             |\n",
      "|2             |\n",
      "|1             |\n",
      "|2             |\n",
      "|2             |\n",
      "|2             |\n",
      "|2             |\n",
      "|2             |\n",
      "|2             |\n",
      "|2             |\n",
      "|2             |\n",
      "|1             |\n",
      "|1             |\n",
      "|2             |\n",
      "|2             |\n",
      "|2             |\n",
      "+--------------+\n",
      "only showing top 20 rows\n",
      "\n",
      "23/03/14 09:15:07 WARN ProcessingTimeExecutor: Current batch is falling behind. The trigger interval is 5000 milliseconds, but spent 20040 milliseconds\n",
      "23/03/14 09:15:08 WARN ProcessingTimeExecutor: Current batch is falling behind. The trigger interval is 5000 milliseconds, but spent 20343 milliseconds\n"
     ]
    },
    {
     "name": "stderr",
     "output_type": "stream",
     "text": [
      "                                                                                \r"
     ]
    },
    {
     "name": "stdout",
     "output_type": "stream",
     "text": [
      "-------------------------------------------\n",
      "Batch: 108\n",
      "-------------------------------------------\n",
      "+--------------+\n",
      "|pu_location_id|\n",
      "+--------------+\n",
      "|2             |\n",
      "|2             |\n",
      "|2             |\n",
      "|2             |\n",
      "|2             |\n",
      "|2             |\n",
      "|2             |\n",
      "|2             |\n",
      "|1             |\n",
      "|1             |\n",
      "|1             |\n",
      "|2             |\n",
      "|2             |\n",
      "|2             |\n",
      "|1             |\n",
      "|2             |\n",
      "|2             |\n",
      "|2             |\n",
      "|2             |\n",
      "|2             |\n",
      "+--------------+\n",
      "only showing top 20 rows\n",
      "\n",
      "-------------------------------------------\n",
      "Batch: 108\n",
      "-------------------------------------------\n",
      "+--------------+\n",
      "|pu_location_id|\n",
      "+--------------+\n",
      "|2             |\n",
      "|2             |\n",
      "|2             |\n",
      "|2             |\n",
      "|2             |\n",
      "|1             |\n",
      "|1             |\n",
      "|1             |\n",
      "|2             |\n",
      "|2             |\n",
      "|2             |\n",
      "|1             |\n",
      "|2             |\n",
      "|2             |\n",
      "|2             |\n",
      "|2             |\n",
      "|2             |\n",
      "|2             |\n",
      "|2             |\n",
      "|1             |\n",
      "+--------------+\n",
      "only showing top 20 rows\n",
      "\n",
      "-------------------------------------------\n",
      "Batch: 109\n",
      "-------------------------------------------\n",
      "+--------------+\n",
      "|pu_location_id|\n",
      "+--------------+\n",
      "|2             |\n",
      "|2             |\n",
      "|2             |\n",
      "|2             |\n",
      "|2             |\n",
      "|2             |\n",
      "|2             |\n",
      "|2             |\n",
      "|2             |\n",
      "|2             |\n",
      "|2             |\n",
      "|2             |\n",
      "|2             |\n",
      "|2             |\n",
      "|2             |\n",
      "|2             |\n",
      "|1             |\n",
      "|2             |\n",
      "|1             |\n",
      "|2             |\n",
      "+--------------+\n",
      "only showing top 20 rows\n",
      "\n",
      "-------------------------------------------\n",
      "Batch: 109\n",
      "-------------------------------------------\n",
      "+--------------+\n",
      "|pu_location_id|\n",
      "+--------------+\n",
      "|2             |\n",
      "|2             |\n",
      "|2             |\n",
      "|2             |\n",
      "|2             |\n",
      "|2             |\n",
      "|2             |\n",
      "|2             |\n",
      "|2             |\n",
      "|2             |\n",
      "|2             |\n",
      "|2             |\n",
      "|2             |\n",
      "|2             |\n",
      "|2             |\n",
      "|2             |\n",
      "|2             |\n",
      "|2             |\n",
      "|2             |\n",
      "|2             |\n",
      "+--------------+\n",
      "only showing top 20 rows\n",
      "\n"
     ]
    },
    {
     "name": "stderr",
     "output_type": "stream",
     "text": [
      "[Stage 715:>                (0 + 0) / 2][Stage 716:>                (0 + 0) / 1]\r"
     ]
    },
    {
     "name": "stdout",
     "output_type": "stream",
     "text": [
      "23/03/14 09:15:15 WARN TaskSetManager: Stage 715 contains a task of very large size (18324 KiB). The maximum recommended task size is 1000 KiB.\n"
     ]
    },
    {
     "name": "stderr",
     "output_type": "stream",
     "text": [
      "                                                                                \r"
     ]
    },
    {
     "name": "stdout",
     "output_type": "stream",
     "text": [
      "-------------------------------------------\n",
      "Batch: 110\n",
      "-------------------------------------------\n",
      "+--------------+\n",
      "|pu_location_id|\n",
      "+--------------+\n",
      "|2             |\n",
      "|2             |\n",
      "|2             |\n",
      "|2             |\n",
      "|2             |\n",
      "|2             |\n",
      "|2             |\n",
      "|2             |\n",
      "|2             |\n",
      "|2             |\n",
      "|1             |\n",
      "|1             |\n",
      "|2             |\n",
      "|2             |\n",
      "|2             |\n",
      "|2             |\n",
      "|2             |\n",
      "|2             |\n",
      "|2             |\n",
      "|1             |\n",
      "+--------------+\n",
      "only showing top 20 rows\n",
      "\n",
      "-------------------------------------------\n",
      "Batch: 110\n",
      "-------------------------------------------\n",
      "+--------------+\n",
      "|pu_location_id|\n",
      "+--------------+\n",
      "|2             |\n",
      "|2             |\n",
      "|2             |\n",
      "|2             |\n",
      "|2             |\n",
      "|2             |\n",
      "|2             |\n",
      "|2             |\n",
      "|2             |\n",
      "|2             |\n",
      "|2             |\n",
      "|2             |\n",
      "|2             |\n",
      "|2             |\n",
      "|2             |\n",
      "|2             |\n",
      "|2             |\n",
      "|2             |\n",
      "|2             |\n",
      "|2             |\n",
      "+--------------+\n",
      "only showing top 20 rows\n",
      "\n",
      "23/03/14 09:15:24 WARN ProcessingTimeExecutor: Current batch is falling behind. The trigger interval is 5000 milliseconds, but spent 9160 milliseconds\n"
     ]
    },
    {
     "name": "stderr",
     "output_type": "stream",
     "text": [
      "[Stage 719:>                                                        (0 + 1) / 1]\r"
     ]
    },
    {
     "name": "stdout",
     "output_type": "stream",
     "text": [
      "23/03/14 09:15:25 WARN ProcessingTimeExecutor: Current batch is falling behind. The trigger interval is 5000 milliseconds, but spent 10209 milliseconds\n"
     ]
    },
    {
     "name": "stderr",
     "output_type": "stream",
     "text": [
      "                                                                                \r"
     ]
    },
    {
     "name": "stdout",
     "output_type": "stream",
     "text": [
      "-------------------------------------------\n",
      "Batch: 111\n",
      "-------------------------------------------\n",
      "+--------------+--------+\n",
      "|pu_location_id|count(1)|\n",
      "+--------------+--------+\n",
      "|          null|  580667|\n",
      "|             2|  473523|\n",
      "|             1|   82775|\n",
      "+--------------+--------+\n",
      "\n",
      "+--------------+\n",
      "|pu_location_id|\n",
      "+--------------+\n",
      "|2             |\n",
      "|2             |\n",
      "|2             |\n",
      "|2             |\n",
      "|2             |\n",
      "|2             |\n",
      "|2             |\n",
      "|2             |\n",
      "|2             |\n",
      "|2             |\n",
      "|2             |\n",
      "|2             |\n",
      "|1             |\n",
      "|2             |\n",
      "|2             |\n",
      "|2             |\n",
      "|2             |\n",
      "|2             |\n",
      "|2             |\n",
      "|2             |\n",
      "+--------------+\n",
      "only showing top 20 rows\n",
      "\n",
      "-------------------------------------------\n",
      "Batch: 111\n",
      "-------------------------------------------\n",
      "+--------------+\n",
      "|pu_location_id|\n",
      "+--------------+\n",
      "|2             |\n",
      "|2             |\n",
      "|2             |\n",
      "|2             |\n",
      "|2             |\n",
      "|2             |\n",
      "|2             |\n",
      "|2             |\n",
      "|2             |\n",
      "|2             |\n",
      "|2             |\n",
      "|2             |\n",
      "|1             |\n",
      "|2             |\n",
      "|2             |\n",
      "|2             |\n",
      "|2             |\n",
      "|2             |\n",
      "|2             |\n",
      "|2             |\n",
      "+--------------+\n",
      "only showing top 20 rows\n",
      "\n",
      "-------------------------------------------\n",
      "Batch: 112\n",
      "-------------------------------------------\n",
      "+--------------+\n",
      "|pu_location_id|\n",
      "+--------------+\n",
      "|2             |\n",
      "|2             |\n",
      "|1             |\n",
      "|1             |\n",
      "|1             |\n",
      "|2             |\n",
      "|2             |\n",
      "|2             |\n",
      "|2             |\n",
      "|2             |\n",
      "|2             |\n",
      "|2             |\n",
      "|2             |\n",
      "|2             |\n",
      "|2             |\n",
      "|2             |\n",
      "|2             |\n",
      "|2             |\n",
      "|2             |\n",
      "|2             |\n",
      "+--------------+\n",
      "only showing top 20 rows\n",
      "\n",
      "-------------------------------------------\n",
      "Batch: 113\n",
      "-------------------------------------------\n",
      "-------------------------------------------\n",
      "Batch: 112\n",
      "-------------------------------------------\n",
      "+--------------+\n",
      "|pu_location_id|\n",
      "+--------------+\n",
      "|2             |\n",
      "|2             |\n",
      "|2             |\n",
      "|2             |\n",
      "|1             |\n",
      "|1             |\n",
      "|2             |\n",
      "|2             |\n",
      "|2             |\n",
      "|2             |\n",
      "|1             |\n",
      "|2             |\n",
      "|2             |\n",
      "|2             |\n",
      "|2             |\n",
      "|1             |\n",
      "|1             |\n",
      "|2             |\n",
      "|2             |\n",
      "|2             |\n",
      "+--------------+\n",
      "only showing top 20 rows\n",
      "\n",
      "+--------------+\n",
      "|pu_location_id|\n",
      "+--------------+\n",
      "|2             |\n",
      "|2             |\n",
      "|2             |\n",
      "|2             |\n",
      "|2             |\n",
      "|2             |\n",
      "|2             |\n",
      "|1             |\n",
      "|2             |\n",
      "|1             |\n",
      "|2             |\n",
      "|2             |\n",
      "|2             |\n",
      "|2             |\n",
      "|2             |\n",
      "|2             |\n",
      "|2             |\n",
      "|1             |\n",
      "|2             |\n",
      "|1             |\n",
      "+--------------+\n",
      "only showing top 20 rows\n",
      "\n",
      "-------------------------------------------\n",
      "Batch: 114\n",
      "-------------------------------------------\n",
      "-------------------------------------------\n",
      "Batch: 113\n",
      "-------------------------------------------\n",
      "+--------------+\n",
      "|pu_location_id|\n",
      "+--------------+\n",
      "|2             |\n",
      "|2             |\n",
      "|2             |\n",
      "|2             |\n",
      "|2             |\n",
      "|2             |\n",
      "|2             |\n",
      "|2             |\n",
      "|2             |\n",
      "|2             |\n",
      "|2             |\n",
      "|2             |\n",
      "|2             |\n",
      "|2             |\n",
      "|2             |\n",
      "|2             |\n",
      "|2             |\n",
      "|2             |\n",
      "|2             |\n",
      "|2             |\n",
      "+--------------+\n",
      "only showing top 20 rows\n",
      "\n",
      "+--------------+\n",
      "|pu_location_id|\n",
      "+--------------+\n",
      "|2             |\n",
      "|2             |\n",
      "|2             |\n",
      "|2             |\n",
      "|2             |\n",
      "|2             |\n",
      "|2             |\n",
      "|2             |\n",
      "|2             |\n",
      "|2             |\n",
      "|2             |\n",
      "|2             |\n",
      "|2             |\n",
      "|2             |\n",
      "|2             |\n",
      "|2             |\n",
      "|2             |\n",
      "|2             |\n",
      "|2             |\n",
      "|2             |\n",
      "+--------------+\n",
      "only showing top 20 rows\n",
      "\n",
      "-------------------------------------------\n",
      "Batch: 114\n",
      "-------------------------------------------\n",
      "-------------------------------------------\n",
      "Batch: 115\n",
      "-------------------------------------------\n",
      "+--------------+\n",
      "|pu_location_id|\n",
      "+--------------+\n",
      "|1             |\n",
      "|1             |\n",
      "|1             |\n",
      "|2             |\n",
      "|2             |\n",
      "|2             |\n",
      "|2             |\n",
      "|2             |\n",
      "|2             |\n",
      "|2             |\n",
      "|2             |\n",
      "|2             |\n",
      "|2             |\n",
      "|2             |\n",
      "|2             |\n",
      "|2             |\n",
      "|2             |\n",
      "|2             |\n",
      "|1             |\n",
      "|2             |\n",
      "+--------------+\n",
      "only showing top 20 rows\n",
      "\n",
      "+--------------+\n",
      "|pu_location_id|\n",
      "+--------------+\n",
      "|2             |\n",
      "|2             |\n",
      "|1             |\n",
      "|1             |\n",
      "|1             |\n",
      "|1             |\n",
      "|2             |\n",
      "|2             |\n",
      "|2             |\n",
      "|2             |\n",
      "|2             |\n",
      "|2             |\n",
      "|2             |\n",
      "|2             |\n",
      "|2             |\n",
      "|2             |\n",
      "|2             |\n",
      "|2             |\n",
      "|2             |\n",
      "|2             |\n",
      "+--------------+\n",
      "only showing top 20 rows\n",
      "\n",
      "23/03/14 09:15:55 WARN ProcessingTimeExecutor: Current batch is falling behind. The trigger interval is 5000 milliseconds, but spent 12769 milliseconds\n"
     ]
    },
    {
     "name": "stderr",
     "output_type": "stream",
     "text": [
      "[Stage 745:>                                                        (0 + 1) / 1]\r"
     ]
    },
    {
     "name": "stdout",
     "output_type": "stream",
     "text": [
      "23/03/14 09:15:58 WARN ProcessingTimeExecutor: Current batch is falling behind. The trigger interval is 5000 milliseconds, but spent 16076 milliseconds\n"
     ]
    },
    {
     "name": "stderr",
     "output_type": "stream",
     "text": [
      "                                                                                \r"
     ]
    },
    {
     "name": "stdout",
     "output_type": "stream",
     "text": [
      "-------------------------------------------\n",
      "Batch: 116\n",
      "-------------------------------------------\n",
      "+--------------+\n",
      "|pu_location_id|\n",
      "+--------------+\n",
      "|2             |\n",
      "|2             |\n",
      "|2             |\n",
      "|2             |\n",
      "|2             |\n",
      "|2             |\n",
      "|2             |\n",
      "|2             |\n",
      "|1             |\n",
      "|2             |\n",
      "|1             |\n",
      "|2             |\n",
      "|2             |\n",
      "|2             |\n",
      "|2             |\n",
      "|2             |\n",
      "|2             |\n",
      "|2             |\n",
      "|2             |\n",
      "|2             |\n",
      "+--------------+\n",
      "only showing top 20 rows\n",
      "\n",
      "-------------------------------------------\n",
      "Batch: 115\n",
      "-------------------------------------------\n",
      "23/03/14 09:16:01 WARN ProcessingTimeExecutor: Current batch is falling behind. The trigger interval is 5000 milliseconds, but spent 5488 milliseconds\n",
      "+--------------+\n",
      "|pu_location_id|\n",
      "+--------------+\n",
      "|2             |\n",
      "|2             |\n",
      "|2             |\n",
      "|2             |\n",
      "|2             |\n",
      "|2             |\n",
      "|2             |\n",
      "|2             |\n",
      "|1             |\n",
      "|2             |\n",
      "|1             |\n",
      "|2             |\n",
      "|2             |\n",
      "|2             |\n",
      "|2             |\n",
      "|2             |\n",
      "|2             |\n",
      "|2             |\n",
      "|2             |\n",
      "|2             |\n",
      "+--------------+\n",
      "only showing top 20 rows\n",
      "\n",
      "-------------------------------------------\n",
      "Batch: 117\n",
      "-------------------------------------------\n",
      "+--------------+\n",
      "|pu_location_id|\n",
      "+--------------+\n",
      "|2             |\n",
      "|2             |\n",
      "|2             |\n",
      "|2             |\n",
      "|2             |\n",
      "|2             |\n",
      "|2             |\n",
      "|2             |\n",
      "|2             |\n",
      "|2             |\n",
      "|2             |\n",
      "|2             |\n",
      "|2             |\n",
      "|2             |\n",
      "|2             |\n",
      "|2             |\n",
      "|2             |\n",
      "|2             |\n",
      "|2             |\n",
      "|2             |\n",
      "+--------------+\n",
      "only showing top 20 rows\n",
      "\n",
      "-------------------------------------------\n",
      "Batch: 116\n",
      "-------------------------------------------\n",
      "+--------------+\n",
      "|pu_location_id|\n",
      "+--------------+\n",
      "|2             |\n",
      "|1             |\n",
      "|2             |\n",
      "|2             |\n",
      "|2             |\n",
      "|1             |\n",
      "|1             |\n",
      "|2             |\n",
      "|2             |\n",
      "|1             |\n",
      "|1             |\n",
      "|1             |\n",
      "|2             |\n",
      "|2             |\n",
      "|2             |\n",
      "|2             |\n",
      "|2             |\n",
      "|2             |\n",
      "|1             |\n",
      "|1             |\n",
      "+--------------+\n",
      "only showing top 20 rows\n",
      "\n"
     ]
    },
    {
     "name": "stderr",
     "output_type": "stream",
     "text": [
      "                                                                                \r"
     ]
    },
    {
     "name": "stdout",
     "output_type": "stream",
     "text": [
      "-------------------------------------------\n",
      "Batch: 117\n",
      "-------------------------------------------\n",
      "+--------------+\n",
      "|pu_location_id|\n",
      "+--------------+\n",
      "|2             |\n",
      "|1             |\n",
      "|2             |\n",
      "|2             |\n",
      "|2             |\n",
      "|2             |\n",
      "|2             |\n",
      "|2             |\n",
      "|2             |\n",
      "|1             |\n",
      "|2             |\n",
      "|2             |\n",
      "|2             |\n",
      "|2             |\n",
      "|2             |\n",
      "|2             |\n",
      "|2             |\n",
      "|2             |\n",
      "|2             |\n",
      "|2             |\n",
      "+--------------+\n",
      "only showing top 20 rows\n",
      "\n",
      "-------------------------------------------\n",
      "Batch: 118\n",
      "-------------------------------------------\n",
      "23/03/14 09:17:12 WARN ProcessingTimeExecutor: Current batch is falling behind. The trigger interval is 5000 milliseconds, but spent 36187 milliseconds\n",
      "+--------------+\n",
      "|pu_location_id|\n",
      "+--------------+\n",
      "|2             |\n",
      "|2             |\n",
      "|2             |\n",
      "|2             |\n",
      "|2             |\n",
      "|2             |\n",
      "|2             |\n",
      "|2             |\n",
      "|2             |\n",
      "|2             |\n",
      "|2             |\n",
      "|2             |\n",
      "|2             |\n",
      "|2             |\n",
      "|2             |\n",
      "|2             |\n",
      "|2             |\n",
      "|2             |\n",
      "|2             |\n",
      "|2             |\n",
      "+--------------+\n",
      "only showing top 20 rows\n",
      "\n",
      "23/03/14 09:17:12 WARN ProcessingTimeExecutor: Current batch is falling behind. The trigger interval is 5000 milliseconds, but spent 33369 milliseconds\n"
     ]
    }
   ],
   "source": [
    "df_vendor_id_counts.show()"
   ]
  },
  {
   "cell_type": "code",
   "execution_count": 17,
   "id": "88862ca9-4d89-487e-987f-08a2b9e83efe",
   "metadata": {
    "tags": []
   },
   "outputs": [
    {
     "name": "stdout",
     "output_type": "stream",
     "text": [
      "23/03/14 09:02:12 ERROR WriteToDataSourceV2Exec: Data source write support org.apache.spark.sql.execution.streaming.sources.MicroBatchWrite@764373cc is aborting.\n",
      "23/03/14 09:02:12 ERROR WriteToDataSourceV2Exec: Data source write support org.apache.spark.sql.execution.streaming.sources.MicroBatchWrite@764373cc aborted.\n",
      "23/03/14 09:02:12 ERROR Utils: Aborting task\n",
      "org.apache.spark.TaskKilledException\n",
      "\tat org.apache.spark.TaskContextImpl.killTaskIfInterrupted(TaskContextImpl.scala:217)\n",
      "\tat org.apache.spark.InterruptibleIterator.hasNext(InterruptibleIterator.scala:36)\n",
      "\tat scala.collection.Iterator$$anon$10.hasNext(Iterator.scala:460)\n",
      "\tat org.apache.spark.sql.catalyst.expressions.GeneratedClass$GeneratedIteratorForCodegenStage1.processNext(Unknown Source)\n",
      "\tat org.apache.spark.sql.execution.BufferedRowIterator.hasNext(BufferedRowIterator.java:43)\n",
      "\tat org.apache.spark.sql.execution.WholeStageCodegenExec$$anon$1.hasNext(WholeStageCodegenExec.scala:760)\n",
      "\tat org.apache.spark.sql.execution.datasources.v2.DataWritingSparkTask$.$anonfun$run$1(WriteToDataSourceV2Exec.scala:435)\n",
      "\tat org.apache.spark.util.Utils$.tryWithSafeFinallyAndFailureCallbacks(Utils.scala:1538)\n",
      "\tat org.apache.spark.sql.execution.datasources.v2.DataWritingSparkTask$.run(WriteToDataSourceV2Exec.scala:480)\n",
      "\tat org.apache.spark.sql.execution.datasources.v2.V2TableWriteExec.$anonfun$writeWithV2$2(WriteToDataSourceV2Exec.scala:381)\n",
      "\tat org.apache.spark.scheduler.ResultTask.runTask(ResultTask.scala:90)\n",
      "\tat org.apache.spark.scheduler.Task.run(Task.scala:136)\n",
      "\tat org.apache.spark.executor.Executor$TaskRunner.$anonfun$run$3(Executor.scala:548)\n",
      "\tat org.apache.spark.util.Utils$.tryWithSafeFinally(Utils.scala:1504)\n",
      "\tat org.apache.spark.executor.Executor$TaskRunner.run(Executor.scala:551)\n",
      "\tat java.base/java.util.concurrent.ThreadPoolExecutor.runWorker(Unknown Source)\n",
      "\tat java.base/java.util.concurrent.ThreadPoolExecutor$Worker.run(Unknown Source)\n",
      "\tat java.base/java.lang.Thread.run(Unknown Source)\n",
      "23/03/14 09:02:12 ERROR DataWritingSparkTask: Aborting commit for partition 0 (task 1, attempt 0, stage 1.0)\n",
      "23/03/14 09:02:12 ERROR DataWritingSparkTask: Aborted commit for partition 0 (task 1, attempt 0, stage 1.0)\n",
      "23/03/14 09:02:12 WARN TaskSetManager: Lost task 0.0 in stage 1.0 (TID 1) (6b52ec08179a executor driver): TaskKilled (Stage cancelled)\n",
      "23/03/14 09:02:13 WARN NetworkClient: [Consumer clientId=consumer-spark-kafka-source-d600cad4-9bfe-4f3c-9d18-5c56e8c55e75--71451429-executor-3, groupId=spark-kafka-source-d600cad4-9bfe-4f3c-9d18-5c56e8c55e75--71451429-executor] Connection to node -1 (localhost/127.0.0.1:9092) could not be established. Broker may not be available.\n",
      "23/03/14 09:02:13 WARN NetworkClient: [Consumer clientId=consumer-spark-kafka-source-d600cad4-9bfe-4f3c-9d18-5c56e8c55e75--71451429-executor-3, groupId=spark-kafka-source-d600cad4-9bfe-4f3c-9d18-5c56e8c55e75--71451429-executor] Bootstrap broker localhost:9092 (id: -1 rack: null) disconnected\n"
     ]
    },
    {
     "name": "stderr",
     "output_type": "stream",
     "text": [
      "                                                                                \r"
     ]
    },
    {
     "name": "stdout",
     "output_type": "stream",
     "text": [
      "-------------------------------------------\n",
      "Batch: 0\n",
      "-------------------------------------------\n"
     ]
    }
   ],
   "source": [
    "write_query.stop()"
   ]
  },
  {
   "cell_type": "markdown",
   "id": "443d4041-06db-4a4a-89c1-348848cc7ca8",
   "metadata": {
    "tags": []
   },
   "source": [
    "#### Kafka Sink\n",
    "\n",
    "To write stream results to `kafka-topic`, the stream dataframe has at least a column with name `value`.\n",
    "\n",
    "Therefore before starting `writeStream` in kafka format, dataframe needs to be updated accordingly.\n",
    "\n",
    "More information regarding kafka sink expected data structure [here](https://spark.apache.org/docs/latest/structured-streaming-kafka-integration.html#writing-data-to-kafka)\n"
   ]
  },
  {
   "cell_type": "code",
   "execution_count": 7,
   "id": "8b08a013-d039-41cf-94fd-a1a57571d25f",
   "metadata": {
    "tags": []
   },
   "outputs": [],
   "source": [
    "def prepare_dataframe_to_kafka_sink(df, value_columns, key_column=None):\n",
    "    columns = df.columns\n",
    "    df = df.withColumn(\"value\", F.concat_ws(', ',*value_columns))    \n",
    "    if key_column:\n",
    "        df = df.withColumnRenamed(key_column,\"key\")\n",
    "        df = df.withColumn(\"key\",df.key.cast('string'))\n",
    "    return df.select(['key', 'value'])\n",
    "    \n",
    "def sink_kafka(df, topic, output_mode='append'):\n",
    "    write_query = df.writeStream \\\n",
    "        .format(\"kafka\") \\\n",
    "        .option(\"kafka.bootstrap.servers\", \"localhost:9092,broker:29092\") \\\n",
    "        .outputMode(output_mode) \\\n",
    "        .option(\"topic\", topic) \\\n",
    "        .option(\"checkpointLocation\", \"checkpoint\") \\\n",
    "        .start()\n",
    "    return write_query\n",
    "\n",
    "def op_groupby(df, column_names):\n",
    "    df_aggregation = df.groupBy(column_names).count()\n",
    "    return df_aggregation\n",
    "\n",
    "def op_windowed_groupby(df, window_duration, slide_duration):\n",
    "    df_windowed_aggregation = df.groupBy(\n",
    "        F.window(timeColumn=df.tpep_pickup_datetime, windowDuration=window_duration, slideDuration=slide_duration),\n",
    "        df.pu_location_id\n",
    "    ).count()\n",
    "    return df_windowed_aggregation"
   ]
  },
  {
   "cell_type": "markdown",
   "id": "e4cb2140-9f2e-4914-b74c-be4c18cdbe8a",
   "metadata": {},
   "source": []
  },
  {
   "cell_type": "code",
   "execution_count": null,
   "id": "6a0dd456-e821-49ff-964d-7fa3a17ee2ae",
   "metadata": {},
   "outputs": [],
   "source": []
  }
 ],
 "metadata": {
  "kernelspec": {
   "display_name": "Python 3 (ipykernel)",
   "language": "python",
   "name": "python3"
  },
  "language_info": {
   "codemirror_mode": {
    "name": "ipython",
    "version": 3
   },
   "file_extension": ".py",
   "mimetype": "text/x-python",
   "name": "python",
   "nbconvert_exporter": "python",
   "pygments_lexer": "ipython3",
   "version": "3.10.6"
  }
 },
 "nbformat": 4,
 "nbformat_minor": 5
}
