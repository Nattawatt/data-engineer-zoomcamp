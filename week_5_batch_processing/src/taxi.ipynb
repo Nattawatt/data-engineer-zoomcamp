{
 "cells": [
  {
   "cell_type": "code",
   "execution_count": 1,
   "id": "a950d3dc",
   "metadata": {
    "tags": []
   },
   "outputs": [],
   "source": [
    "import pyspark\n",
    "import pandas as pd\n",
    "from pyspark.sql import SparkSession"
   ]
  },
  {
   "cell_type": "code",
   "execution_count": 2,
   "id": "f915b148",
   "metadata": {
    "tags": []
   },
   "outputs": [],
   "source": [
    "spark = SparkSession.builder \\\n",
    "        .master(\"local[*]\") \\\n",
    "        .appName('test') \\\n",
    "        .getOrCreate()"
   ]
  },
  {
   "cell_type": "code",
   "execution_count": 3,
   "id": "5ac28438",
   "metadata": {
    "tags": []
   },
   "outputs": [],
   "source": [
    "df_pd = pd.read_parquet(\"data/raw/green/2020/01/\")"
   ]
  },
  {
   "cell_type": "code",
   "execution_count": 4,
   "id": "80179a23",
   "metadata": {
    "tags": []
   },
   "outputs": [],
   "source": [
    "df_pd.head(1000).to_csv(\"df_green_pd.csv\",index = False)"
   ]
  },
  {
   "cell_type": "code",
   "execution_count": 5,
   "id": "a7c246e9",
   "metadata": {
    "tags": []
   },
   "outputs": [],
   "source": [
    "df_pd = pd.read_csv(\"df_green_pd.csv\")"
   ]
  },
  {
   "cell_type": "code",
   "execution_count": 7,
   "id": "dc5d0872",
   "metadata": {
    "tags": []
   },
   "outputs": [],
   "source": [
    "df_pd = pd.read_csv(\"df_green_pd.csv\",parse_dates=['lpep_pickup_datetime', 'lpep_dropoff_datetime'])"
   ]
  },
  {
   "cell_type": "code",
   "execution_count": 13,
   "id": "40a94b13-b797-4f75-8680-02ae98748082",
   "metadata": {
    "tags": []
   },
   "outputs": [
    {
     "name": "stdout",
     "output_type": "stream",
     "text": [
      "<class 'pandas.core.frame.DataFrame'>\n",
      "RangeIndex: 1000 entries, 0 to 999\n",
      "Data columns (total 20 columns):\n",
      " #   Column                 Non-Null Count  Dtype         \n",
      "---  ------                 --------------  -----         \n",
      " 0   VendorID               1000 non-null   int64         \n",
      " 1   lpep_pickup_datetime   1000 non-null   datetime64[ns]\n",
      " 2   lpep_dropoff_datetime  1000 non-null   datetime64[ns]\n",
      " 3   store_and_fwd_flag     1000 non-null   object        \n",
      " 4   RatecodeID             1000 non-null   float64       \n",
      " 5   PULocationID           1000 non-null   int64         \n",
      " 6   DOLocationID           1000 non-null   int64         \n",
      " 7   passenger_count        1000 non-null   float64       \n",
      " 8   trip_distance          1000 non-null   float64       \n",
      " 9   fare_amount            1000 non-null   float64       \n",
      " 10  extra                  1000 non-null   float64       \n",
      " 11  mta_tax                1000 non-null   float64       \n",
      " 12  tip_amount             1000 non-null   float64       \n",
      " 13  tolls_amount           1000 non-null   float64       \n",
      " 14  ehail_fee              0 non-null      float64       \n",
      " 15  improvement_surcharge  1000 non-null   float64       \n",
      " 16  total_amount           1000 non-null   float64       \n",
      " 17  payment_type           1000 non-null   float64       \n",
      " 18  trip_type              1000 non-null   float64       \n",
      " 19  congestion_surcharge   1000 non-null   float64       \n",
      "dtypes: datetime64[ns](2), float64(14), int64(3), object(1)\n",
      "memory usage: 156.4+ KB\n"
     ]
    }
   ],
   "source": [
    "df_pd.info()"
   ]
  },
  {
   "cell_type": "code",
   "execution_count": 8,
   "id": "b0042917",
   "metadata": {
    "tags": []
   },
   "outputs": [
    {
     "name": "stderr",
     "output_type": "stream",
     "text": [
      "/usr/local/spark/python/pyspark/sql/pandas/conversion.py:474: FutureWarning: iteritems is deprecated and will be removed in a future version. Use .items instead.\n",
      "  for column, series in pdf.iteritems():\n",
      "/usr/local/spark/python/pyspark/sql/pandas/conversion.py:486: FutureWarning: iteritems is deprecated and will be removed in a future version. Use .items instead.\n",
      "  for column, series in pdf.iteritems():\n"
     ]
    },
    {
     "data": {
      "text/plain": [
       "StructType([StructField('VendorID', LongType(), True), StructField('lpep_pickup_datetime', TimestampType(), True), StructField('lpep_dropoff_datetime', TimestampType(), True), StructField('store_and_fwd_flag', StringType(), True), StructField('RatecodeID', DoubleType(), True), StructField('PULocationID', LongType(), True), StructField('DOLocationID', LongType(), True), StructField('passenger_count', DoubleType(), True), StructField('trip_distance', DoubleType(), True), StructField('fare_amount', DoubleType(), True), StructField('extra', DoubleType(), True), StructField('mta_tax', DoubleType(), True), StructField('tip_amount', DoubleType(), True), StructField('tolls_amount', DoubleType(), True), StructField('ehail_fee', DoubleType(), True), StructField('improvement_surcharge', DoubleType(), True), StructField('total_amount', DoubleType(), True), StructField('payment_type', DoubleType(), True), StructField('trip_type', DoubleType(), True), StructField('congestion_surcharge', DoubleType(), True)])"
      ]
     },
     "execution_count": 8,
     "metadata": {},
     "output_type": "execute_result"
    }
   ],
   "source": [
    "spark.createDataFrame(df_pd).schema"
   ]
  },
  {
   "cell_type": "code",
   "execution_count": 10,
   "id": "dabfda1d",
   "metadata": {
    "tags": []
   },
   "outputs": [],
   "source": [
    "from pyspark.sql import types\n",
    "from pyspark.sql.functions import col"
   ]
  },
  {
   "cell_type": "code",
   "execution_count": 19,
   "id": "395fa5c6",
   "metadata": {
    "tags": []
   },
   "outputs": [
    {
     "name": "stdout",
     "output_type": "stream",
     "text": [
      "processing data for 2020/1\n",
      "processing data for 2020/2\n",
      "processing data for 2020/3\n",
      "processing data for 2020/4\n",
      "processing data for 2020/5\n",
      "processing data for 2020/6\n",
      "processing data for 2020/7\n",
      "processing data for 2020/8\n",
      "processing data for 2020/9\n",
      "processing data for 2020/10\n",
      "processing data for 2020/11\n",
      "processing data for 2020/12\n"
     ]
    }
   ],
   "source": [
    "year = 2020\n",
    "color = \"yellow\"\n",
    "\n",
    "for month in range(1,13):\n",
    "    print(f'processing data for {year}/{month}')\n",
    "    \n",
    "    input_path = f'data/raw/{color}/{year}/{month:02d}/'\n",
    "    output_path = f'data/pq/{color}/{year}/{month:02d}/'\n",
    "          \n",
    "    df = spark.read \\\n",
    "                .parquet(input_path)\n",
    "    \n",
    "    if color == \"yellow\":\n",
    "        df = df \\\n",
    "        .withColumn(\"VendorID\", col(\"VendorID\").cast(\"integer\")) \\\n",
    "        .withColumn(\"pickup_datetime\", col(\"tpep_pickup_datetime\").cast(\"timestamp\")) \\\n",
    "        .withColumn(\"dropoff_datetime\", col(\"tpep_dropoff_datetime\").cast(\"timestamp\")) \\\n",
    "        .withColumn(\"passenger_count\", col(\"passenger_count\").cast(\"integer\")) \\\n",
    "        .withColumn(\"trip_distance\", col(\"trip_distance\").cast(\"double\")) \\\n",
    "        .withColumn(\"RatecodeID\", col(\"RatecodeID\").cast(\"integer\")) \\\n",
    "        .withColumn(\"store_and_fwd_flag\", col(\"store_and_fwd_flag\").cast(\"string\")) \\\n",
    "        .withColumn(\"PULocationID\", col(\"PULocationID\").cast(\"integer\")) \\\n",
    "        .withColumn(\"DOLocationID\", col(\"DOLocationID\").cast(\"integer\")) \\\n",
    "        .withColumn(\"payment_type\", col(\"payment_type\").cast(\"integer\")) \\\n",
    "        .withColumn(\"fare_amount\", col(\"fare_amount\").cast(\"double\")) \\\n",
    "        .withColumn(\"extra\", col(\"extra\").cast(\"double\")) \\\n",
    "        .withColumn(\"mta_tax\", col(\"mta_tax\").cast(\"double\")) \\\n",
    "        .withColumn(\"tip_amount\", col(\"tip_amount\").cast(\"double\")) \\\n",
    "        .withColumn(\"tolls_amount\", col(\"tolls_amount\").cast(\"double\")) \\\n",
    "        .withColumn(\"improvement_surcharge\", col(\"improvement_surcharge\").cast(\"double\")) \\\n",
    "        .withColumn(\"total_amount\", col(\"total_amount\").cast(\"double\")) \\\n",
    "        .withColumn(\"congestion_surcharge\", col(\"congestion_surcharge\").cast(\"double\")) \\\n",
    "        .withColumn(\"airport_fee\", col(\"airport_fee\").cast(\"double\"))\n",
    "        \n",
    "    elif color == \"green\":\n",
    "        df = df \\\n",
    "        .withColumn(\"VendorID\", col(\"VendorID\").cast(\"integer\")) \\\n",
    "        .withColumn(\"pickup_datetime\", col(\"lpep_pickup_datetime\").cast(\"timestamp\")) \\\n",
    "        .withColumn(\"dropoff_datetime\", col(\"lpep_dropoff_datetime\").cast(\"timestamp\")) \\\n",
    "        .withColumn(\"passenger_count\", col(\"passenger_count\").cast(\"integer\")) \\\n",
    "        .withColumn(\"trip_distance\", col(\"trip_distance\").cast(\"double\")) \\\n",
    "        .withColumn(\"RatecodeID\", col(\"RatecodeID\").cast(\"integer\")) \\\n",
    "        .withColumn(\"store_and_fwd_flag\", col(\"store_and_fwd_flag\").cast(\"string\")) \\\n",
    "        .withColumn(\"PULocationID\", col(\"PULocationID\").cast(\"integer\")) \\\n",
    "        .withColumn(\"DOLocationID\", col(\"DOLocationID\").cast(\"integer\")) \\\n",
    "        .withColumn(\"payment_type\", col(\"payment_type\").cast(\"integer\")) \\\n",
    "        .withColumn(\"fare_amount\", col(\"fare_amount\").cast(\"double\")) \\\n",
    "        .withColumn(\"extra\", col(\"extra\").cast(\"double\")) \\\n",
    "        .withColumn(\"mta_tax\", col(\"mta_tax\").cast(\"double\")) \\\n",
    "        .withColumn(\"tip_amount\", col(\"tip_amount\").cast(\"double\")) \\\n",
    "        .withColumn(\"tolls_amount\", col(\"tolls_amount\").cast(\"double\")) \\\n",
    "        .withColumn(\"improvement_surcharge\", col(\"improvement_surcharge\").cast(\"double\")) \\\n",
    "        .withColumn(\"total_amount\", col(\"total_amount\").cast(\"double\")) \\\n",
    "        .withColumn(\"congestion_surcharge\", col(\"congestion_surcharge\").cast(\"double\"))\n",
    "    \n",
    "    df \\\n",
    "        .repartition(4) \\\n",
    "        .write.parquet(output_path, mode = \"overwrite\")        "
   ]
  },
  {
   "cell_type": "code",
   "execution_count": 20,
   "id": "00da9fe3",
   "metadata": {
    "tags": []
   },
   "outputs": [],
   "source": [
    "df = spark.read \\\n",
    "    .parquet(f\"data/raw/{color}/{year}/*\")"
   ]
  },
  {
   "cell_type": "code",
   "execution_count": 21,
   "id": "2063e4c5",
   "metadata": {
    "tags": []
   },
   "outputs": [
    {
     "name": "stdout",
     "output_type": "stream",
     "text": [
      "+--------+--------------------+---------------------+---------------+-------------+----------+------------------+------------+------------+------------+-----------+-----+-------+----------+------------+---------------------+------------+--------------------+-----------+\n",
      "|VendorID|tpep_pickup_datetime|tpep_dropoff_datetime|passenger_count|trip_distance|RatecodeID|store_and_fwd_flag|PULocationID|DOLocationID|payment_type|fare_amount|extra|mta_tax|tip_amount|tolls_amount|improvement_surcharge|total_amount|congestion_surcharge|airport_fee|\n",
      "+--------+--------------------+---------------------+---------------+-------------+----------+------------------+------------+------------+------------+-----------+-----+-------+----------+------------+---------------------+------------+--------------------+-----------+\n",
      "|       1| 2020-01-01 00:28:15|  2020-01-01 00:33:03|            1.0|          1.2|       1.0|                 N|         238|         239|           1|        6.0|  3.0|    0.5|      1.47|         0.0|                  0.3|       11.27|                 2.5|       null|\n",
      "|       1| 2020-01-01 00:35:39|  2020-01-01 00:43:04|            1.0|          1.2|       1.0|                 N|         239|         238|           1|        7.0|  3.0|    0.5|       1.5|         0.0|                  0.3|        12.3|                 2.5|       null|\n",
      "|       1| 2020-01-01 00:47:41|  2020-01-01 00:53:52|            1.0|          0.6|       1.0|                 N|         238|         238|           1|        6.0|  3.0|    0.5|       1.0|         0.0|                  0.3|        10.8|                 2.5|       null|\n",
      "|       1| 2020-01-01 00:55:23|  2020-01-01 01:00:14|            1.0|          0.8|       1.0|                 N|         238|         151|           1|        5.5|  0.5|    0.5|      1.36|         0.0|                  0.3|        8.16|                 0.0|       null|\n",
      "|       2| 2020-01-01 00:01:58|  2020-01-01 00:04:16|            1.0|          0.0|       1.0|                 N|         193|         193|           2|        3.5|  0.5|    0.5|       0.0|         0.0|                  0.3|         4.8|                 0.0|       null|\n",
      "|       2| 2020-01-01 00:09:44|  2020-01-01 00:10:37|            1.0|         0.03|       1.0|                 N|           7|         193|           2|        2.5|  0.5|    0.5|       0.0|         0.0|                  0.3|         3.8|                 0.0|       null|\n",
      "|       2| 2020-01-01 00:39:25|  2020-01-01 00:39:29|            1.0|          0.0|       1.0|                 N|         193|         193|           1|        2.5|  0.5|    0.5|      0.01|         0.0|                  0.3|        3.81|                 0.0|       null|\n",
      "|       2| 2019-12-18 15:27:49|  2019-12-18 15:28:59|            1.0|          0.0|       5.0|                 N|         193|         193|           1|       0.01|  0.0|    0.0|       0.0|         0.0|                  0.3|        2.81|                 2.5|       null|\n",
      "|       2| 2019-12-18 15:30:35|  2019-12-18 15:31:35|            4.0|          0.0|       1.0|                 N|         193|         193|           1|        2.5|  0.5|    0.5|       0.0|         0.0|                  0.3|         6.3|                 2.5|       null|\n",
      "|       1| 2020-01-01 00:29:01|  2020-01-01 00:40:28|            2.0|          0.7|       1.0|                 N|         246|          48|           1|        8.0|  3.0|    0.5|      2.35|         0.0|                  0.3|       14.15|                 2.5|       null|\n",
      "|       1| 2020-01-01 00:55:11|  2020-01-01 01:12:03|            2.0|          2.4|       1.0|                 N|         246|          79|           1|       12.0|  3.0|    0.5|      1.75|         0.0|                  0.3|       17.55|                 2.5|       null|\n",
      "|       1| 2020-01-01 00:37:15|  2020-01-01 00:51:41|            1.0|          0.8|       1.0|                 N|         163|         161|           2|        9.5|  3.0|    0.5|       0.0|         0.0|                  0.3|        13.3|                 2.5|       null|\n",
      "|       1| 2020-01-01 00:56:27|  2020-01-01 01:21:44|            1.0|          3.3|       1.0|                 N|         161|         144|           1|       17.0|  3.0|    0.5|      4.15|         0.0|                  0.3|       24.95|                 2.5|       null|\n",
      "|       2| 2020-01-01 00:21:54|  2020-01-01 00:27:31|            1.0|         1.07|       1.0|                 N|          43|         239|           1|        6.0|  0.5|    0.5|      1.96|         0.0|                  0.3|       11.76|                 2.5|       null|\n",
      "|       2| 2020-01-01 00:38:01|  2020-01-01 01:15:21|            1.0|         7.76|       1.0|                 N|         143|          25|           1|       28.5|  0.5|    0.5|      4.84|         0.0|                  0.3|       37.14|                 2.5|       null|\n",
      "|       1| 2020-01-01 00:15:35|  2020-01-01 00:27:06|            3.0|          1.6|       1.0|                 N|         211|         234|           2|        9.0|  3.0|    0.5|       0.0|         0.0|                  0.3|        12.8|                 2.5|       null|\n",
      "|       1| 2020-01-01 00:41:20|  2020-01-01 00:44:22|            1.0|          0.5|       1.0|                 Y|         234|          90|           1|        4.0|  3.0|    0.5|       1.0|         0.0|                  0.3|         8.8|                 2.5|       null|\n",
      "|       1| 2020-01-01 00:56:38|  2020-01-01 01:13:34|            1.0|          1.7|       1.0|                 N|         246|         142|           2|       11.5|  3.0|    0.5|       0.0|         0.0|                  0.3|        15.3|                 2.5|       null|\n",
      "|       2| 2020-01-01 00:08:21|  2020-01-01 00:25:29|            1.0|         8.45|       1.0|                 N|         138|         216|           2|       24.5|  0.5|    0.5|       0.0|         0.0|                  0.3|        25.8|                 0.0|       null|\n",
      "|       1| 2020-01-01 00:25:39|  2020-01-01 00:27:05|            1.0|          0.0|       1.0|                 N|         170|         162|           4|        3.0|  3.0|    0.5|       0.0|         0.0|                  0.3|         6.8|                 2.5|       null|\n",
      "+--------+--------------------+---------------------+---------------+-------------+----------+------------------+------------+------------+------------+-----------+-----+-------+----------+------------+---------------------+------------+--------------------+-----------+\n",
      "only showing top 20 rows\n",
      "\n"
     ]
    }
   ],
   "source": [
    "df.show()"
   ]
  },
  {
   "cell_type": "code",
   "execution_count": null,
   "id": "f0eed4c4",
   "metadata": {},
   "outputs": [],
   "source": []
  }
 ],
 "metadata": {
  "kernelspec": {
   "display_name": "Python 3 (ipykernel)",
   "language": "python",
   "name": "python3"
  },
  "language_info": {
   "codemirror_mode": {
    "name": "ipython",
    "version": 3
   },
   "file_extension": ".py",
   "mimetype": "text/x-python",
   "name": "python",
   "nbconvert_exporter": "python",
   "pygments_lexer": "ipython3",
   "version": "3.9.13"
  }
 },
 "nbformat": 4,
 "nbformat_minor": 5
}
