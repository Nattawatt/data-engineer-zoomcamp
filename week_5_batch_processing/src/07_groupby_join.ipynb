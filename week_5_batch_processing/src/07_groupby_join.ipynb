{
 "cells": [
  {
   "cell_type": "code",
   "execution_count": 1,
   "id": "46ab43af-f7f4-4241-ad6d-a4c0aedaab27",
   "metadata": {
    "tags": []
   },
   "outputs": [],
   "source": [
    "import pyspark\n",
    "from pyspark.sql import SparkSession\n",
    "\n",
    "spark = SparkSession.builder \\\n",
    "    .master(\"local[*]\") \\\n",
    "    .appName(\"test\") \\\n",
    "    .getOrCreate()"
   ]
  },
  {
   "cell_type": "code",
   "execution_count": 2,
   "id": "97debfe6-9fc9-431e-9acc-02e254e2a95f",
   "metadata": {
    "tags": []
   },
   "outputs": [],
   "source": [
    "df_green = spark.read.parquet('data/pq/green/*/*')"
   ]
  },
  {
   "cell_type": "code",
   "execution_count": 3,
   "id": "429e3912-1ad8-40af-9533-b66c80fb1a41",
   "metadata": {
    "tags": []
   },
   "outputs": [],
   "source": [
    "df_green.createOrReplaceTempView('green')"
   ]
  },
  {
   "cell_type": "code",
   "execution_count": 13,
   "id": "420c0c65-a5dd-4362-910f-16a17cc8599d",
   "metadata": {
    "tags": []
   },
   "outputs": [],
   "source": [
    "df_green_revenue = spark.sql(\"\"\"\n",
    "SELECT\n",
    "    date_trunc('hour', pickup_datetime) AS hour,\n",
    "    PULocationID AS revenue_zone,\n",
    "    SUM(total_amount) AS revenur_monthly_total_amount,\n",
    "    COUNT(1) AS number_records\n",
    "FROM\n",
    "    green\n",
    "WHERE\n",
    "    pickup_datetime >= '2020-01-01'\n",
    "GROUP BY\n",
    "    1, 2\n",
    "ORDER BY\n",
    "    1, 2\n",
    "\"\"\")"
   ]
  },
  {
   "cell_type": "code",
   "execution_count": 25,
   "id": "f3d9dda4-90a7-4b87-a728-944104294a60",
   "metadata": {
    "tags": []
   },
   "outputs": [],
   "source": [
    "df_green_revenue \\\n",
    "    .repartition(20) \\\n",
    "    .write.parquet('data/report/revenue/green', mode=\"overwrite\")"
   ]
  },
  {
   "cell_type": "code",
   "execution_count": 26,
   "id": "16b957d1-ba11-4a9b-b6ed-2c3f53958b7e",
   "metadata": {
    "tags": []
   },
   "outputs": [],
   "source": [
    "df_yellow = spark.read.parquet('data/pq/yellow/*/*')"
   ]
  },
  {
   "cell_type": "code",
   "execution_count": 27,
   "id": "188b71a3-8b2f-446d-9844-7e02880911be",
   "metadata": {
    "tags": []
   },
   "outputs": [],
   "source": [
    "df_yellow.createOrReplaceTempView('yellow')"
   ]
  },
  {
   "cell_type": "code",
   "execution_count": 28,
   "id": "6a77f919-82ef-4d5f-a429-b86bace2cb68",
   "metadata": {
    "tags": []
   },
   "outputs": [],
   "source": [
    "df_yellow_revenue = spark.sql(\"\"\"\n",
    "SELECT\n",
    "    date_trunc('hour', pickup_datetime) AS hour,\n",
    "    PULocationID AS revenue_zone,\n",
    "    SUM(total_amount) AS revenur_monthly_total_amount,\n",
    "    COUNT(1) AS number_records\n",
    "FROM\n",
    "    yellow\n",
    "WHERE\n",
    "    pickup_datetime >= '2020-01-01'\n",
    "GROUP BY\n",
    "    1, 2\n",
    "ORDER BY\n",
    "    1, 2\n",
    "\"\"\")"
   ]
  },
  {
   "cell_type": "code",
   "execution_count": 29,
   "id": "e36fb7f4-0e66-4c31-ad29-b4a202007b42",
   "metadata": {
    "tags": []
   },
   "outputs": [],
   "source": [
    "df_yellow_revenue \\\n",
    "    .repartition(20) \\\n",
    "    .write.parquet('data/report/revenue/yellow', mode=\"overwrite\")"
   ]
  },
  {
   "cell_type": "code",
   "execution_count": 31,
   "id": "58885c1d-9015-408b-8aaf-62a05ad08d5a",
   "metadata": {
    "tags": []
   },
   "outputs": [
    {
     "data": {
      "text/html": [
       "<div>\n",
       "<style scoped>\n",
       "    .dataframe tbody tr th:only-of-type {\n",
       "        vertical-align: middle;\n",
       "    }\n",
       "\n",
       "    .dataframe tbody tr th {\n",
       "        vertical-align: top;\n",
       "    }\n",
       "\n",
       "    .dataframe thead th {\n",
       "        text-align: right;\n",
       "    }\n",
       "</style>\n",
       "<table border=\"1\" class=\"dataframe\">\n",
       "  <thead>\n",
       "    <tr style=\"text-align: right;\">\n",
       "      <th></th>\n",
       "      <th>hour</th>\n",
       "      <th>revenue_zone</th>\n",
       "      <th>revenur_monthly_total_amount</th>\n",
       "      <th>number_records</th>\n",
       "    </tr>\n",
       "  </thead>\n",
       "  <tbody>\n",
       "    <tr>\n",
       "      <th>0</th>\n",
       "      <td>2020-05-14 06:00:00</td>\n",
       "      <td>116</td>\n",
       "      <td>19.30</td>\n",
       "      <td>1</td>\n",
       "    </tr>\n",
       "    <tr>\n",
       "      <th>1</th>\n",
       "      <td>2020-01-15 14:00:00</td>\n",
       "      <td>217</td>\n",
       "      <td>56.80</td>\n",
       "      <td>1</td>\n",
       "    </tr>\n",
       "    <tr>\n",
       "      <th>2</th>\n",
       "      <td>2020-01-24 03:00:00</td>\n",
       "      <td>36</td>\n",
       "      <td>19.14</td>\n",
       "      <td>2</td>\n",
       "    </tr>\n",
       "    <tr>\n",
       "      <th>3</th>\n",
       "      <td>2020-02-12 11:00:00</td>\n",
       "      <td>257</td>\n",
       "      <td>23.41</td>\n",
       "      <td>1</td>\n",
       "    </tr>\n",
       "    <tr>\n",
       "      <th>4</th>\n",
       "      <td>2020-03-27 10:00:00</td>\n",
       "      <td>53</td>\n",
       "      <td>8.30</td>\n",
       "      <td>1</td>\n",
       "    </tr>\n",
       "    <tr>\n",
       "      <th>...</th>\n",
       "      <td>...</td>\n",
       "      <td>...</td>\n",
       "      <td>...</td>\n",
       "      <td>...</td>\n",
       "    </tr>\n",
       "    <tr>\n",
       "      <th>493778</th>\n",
       "      <td>2020-10-22 10:00:00</td>\n",
       "      <td>72</td>\n",
       "      <td>55.67</td>\n",
       "      <td>2</td>\n",
       "    </tr>\n",
       "    <tr>\n",
       "      <th>493779</th>\n",
       "      <td>2020-11-06 08:00:00</td>\n",
       "      <td>174</td>\n",
       "      <td>49.92</td>\n",
       "      <td>2</td>\n",
       "    </tr>\n",
       "    <tr>\n",
       "      <th>493780</th>\n",
       "      <td>2020-08-10 11:00:00</td>\n",
       "      <td>247</td>\n",
       "      <td>46.01</td>\n",
       "      <td>2</td>\n",
       "    </tr>\n",
       "    <tr>\n",
       "      <th>493781</th>\n",
       "      <td>2020-09-28 12:00:00</td>\n",
       "      <td>62</td>\n",
       "      <td>70.01</td>\n",
       "      <td>2</td>\n",
       "    </tr>\n",
       "    <tr>\n",
       "      <th>493782</th>\n",
       "      <td>2020-09-18 11:00:00</td>\n",
       "      <td>56</td>\n",
       "      <td>38.58</td>\n",
       "      <td>1</td>\n",
       "    </tr>\n",
       "  </tbody>\n",
       "</table>\n",
       "<p>493783 rows × 4 columns</p>\n",
       "</div>"
      ],
      "text/plain": [
       "                      hour  revenue_zone  revenur_monthly_total_amount  \\\n",
       "0      2020-05-14 06:00:00           116                         19.30   \n",
       "1      2020-01-15 14:00:00           217                         56.80   \n",
       "2      2020-01-24 03:00:00            36                         19.14   \n",
       "3      2020-02-12 11:00:00           257                         23.41   \n",
       "4      2020-03-27 10:00:00            53                          8.30   \n",
       "...                    ...           ...                           ...   \n",
       "493778 2020-10-22 10:00:00            72                         55.67   \n",
       "493779 2020-11-06 08:00:00           174                         49.92   \n",
       "493780 2020-08-10 11:00:00           247                         46.01   \n",
       "493781 2020-09-28 12:00:00            62                         70.01   \n",
       "493782 2020-09-18 11:00:00            56                         38.58   \n",
       "\n",
       "        number_records  \n",
       "0                    1  \n",
       "1                    1  \n",
       "2                    2  \n",
       "3                    1  \n",
       "4                    1  \n",
       "...                ...  \n",
       "493778               2  \n",
       "493779               2  \n",
       "493780               2  \n",
       "493781               2  \n",
       "493782               1  \n",
       "\n",
       "[493783 rows x 4 columns]"
      ]
     },
     "execution_count": 31,
     "metadata": {},
     "output_type": "execute_result"
    }
   ],
   "source": [
    "pd.read_parquet('data/report/revenue/green')"
   ]
  },
  {
   "cell_type": "code",
   "execution_count": null,
   "id": "8392847f-9ebc-4e83-b9c7-e3bcca34dc8f",
   "metadata": {},
   "outputs": [],
   "source": []
  }
 ],
 "metadata": {
  "kernelspec": {
   "display_name": "Python 3 (ipykernel)",
   "language": "python",
   "name": "python3"
  },
  "language_info": {
   "codemirror_mode": {
    "name": "ipython",
    "version": 3
   },
   "file_extension": ".py",
   "mimetype": "text/x-python",
   "name": "python",
   "nbconvert_exporter": "python",
   "pygments_lexer": "ipython3",
   "version": "3.9.13"
  }
 },
 "nbformat": 4,
 "nbformat_minor": 5
}
